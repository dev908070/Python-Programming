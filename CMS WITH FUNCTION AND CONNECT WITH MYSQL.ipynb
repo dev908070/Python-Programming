{
 "cells": [
  {
   "cell_type": "code",
   "execution_count": 2,
   "metadata": {},
   "outputs": [],
   "source": [
    "import pymysql"
   ]
  },
  {
   "cell_type": "code",
   "execution_count": 6,
   "metadata": {},
   "outputs": [
    {
     "name": "stdout",
     "output_type": "stream",
     "text": [
      "1. for Add\n",
      " 2. for Search\n",
      " 3. for Delete\n",
      " 4. for Update\n",
      " 5. for Showall\n",
      " 0. for Exit\n",
      " \n",
      "enter choice:->1\n"
     ]
    },
    {
     "ename": "AttributeError",
     "evalue": "'Phonebook' object has no attribute 'name'",
     "output_type": "error",
     "traceback": [
      "\u001b[1;31m---------------------------------------------------------------------------\u001b[0m",
      "\u001b[1;31mAttributeError\u001b[0m                            Traceback (most recent call last)",
      "\u001b[1;32m<ipython-input-6-6f7ba83d4f48>\u001b[0m in \u001b[0;36m<module>\u001b[1;34m\u001b[0m\n\u001b[0;32m     56\u001b[0m     \u001b[1;32mif\u001b[0m \u001b[0mch\u001b[0m\u001b[1;33m==\u001b[0m\u001b[1;34m'1'\u001b[0m\u001b[1;33m:\u001b[0m\u001b[1;33m\u001b[0m\u001b[1;33m\u001b[0m\u001b[0m\n\u001b[0;32m     57\u001b[0m \u001b[1;33m\u001b[0m\u001b[0m\n\u001b[1;32m---> 58\u001b[1;33m         \u001b[0mp\u001b[0m \u001b[1;33m=\u001b[0m \u001b[0mPhonebook\u001b[0m\u001b[1;33m(\u001b[0m\u001b[1;33m)\u001b[0m\u001b[1;33m\u001b[0m\u001b[1;33m\u001b[0m\u001b[0m\n\u001b[0m\u001b[0;32m     59\u001b[0m         \u001b[0mp\u001b[0m\u001b[1;33m.\u001b[0m\u001b[0mname\u001b[0m\u001b[1;33m=\u001b[0m\u001b[0minput\u001b[0m\u001b[1;33m(\u001b[0m\u001b[1;34m'Enter name'\u001b[0m\u001b[1;33m)\u001b[0m\u001b[1;33m\u001b[0m\u001b[1;33m\u001b[0m\u001b[0m\n\u001b[0;32m     60\u001b[0m         \u001b[0mp\u001b[0m\u001b[1;33m.\u001b[0m\u001b[0mage\u001b[0m\u001b[1;33m=\u001b[0m\u001b[0minput\u001b[0m\u001b[1;33m(\u001b[0m\u001b[1;34m'Enter age'\u001b[0m\u001b[1;33m)\u001b[0m\u001b[1;33m\u001b[0m\u001b[1;33m\u001b[0m\u001b[0m\n",
      "\u001b[1;32m<ipython-input-6-6f7ba83d4f48>\u001b[0m in \u001b[0;36m__init__\u001b[1;34m(self)\u001b[0m\n\u001b[0;32m     12\u001b[0m \u001b[1;33m\u001b[0m\u001b[0m\n\u001b[0;32m     13\u001b[0m         \u001b[0mq\u001b[0m \u001b[1;33m=\u001b[0m \u001b[1;34m\"insert into practice(name,age) values(%s,%s)\"\u001b[0m\u001b[1;33m\u001b[0m\u001b[1;33m\u001b[0m\u001b[0m\n\u001b[1;32m---> 14\u001b[1;33m         \u001b[0mval\u001b[0m \u001b[1;33m=\u001b[0m \u001b[1;33m(\u001b[0m\u001b[0mself\u001b[0m\u001b[1;33m.\u001b[0m\u001b[0mname\u001b[0m\u001b[1;33m,\u001b[0m\u001b[0mself\u001b[0m\u001b[1;33m.\u001b[0m\u001b[0mage\u001b[0m\u001b[1;33m)\u001b[0m\u001b[1;33m\u001b[0m\u001b[1;33m\u001b[0m\u001b[0m\n\u001b[0m\u001b[0;32m     15\u001b[0m         \u001b[0mcursor\u001b[0m\u001b[1;33m.\u001b[0m\u001b[0mexcecute\u001b[0m\u001b[1;33m(\u001b[0m\u001b[0mq\u001b[0m\u001b[1;33m,\u001b[0m\u001b[0mval\u001b[0m\u001b[1;33m)\u001b[0m\u001b[1;33m\u001b[0m\u001b[1;33m\u001b[0m\u001b[0m\n\u001b[0;32m     16\u001b[0m         \u001b[0mdb\u001b[0m\u001b[1;33m.\u001b[0m\u001b[0mcommit\u001b[0m\u001b[1;33m(\u001b[0m\u001b[1;33m)\u001b[0m\u001b[1;33m\u001b[0m\u001b[1;33m\u001b[0m\u001b[0m\n",
      "\u001b[1;31mAttributeError\u001b[0m: 'Phonebook' object has no attribute 'name'"
     ]
    }
   ],
   "source": [
    "# bll\n",
    "import pymysql\n",
    "db = pymysql.connect(\"localhost\",\"root\",\"1234567890\",\"practice\")\n",
    "cursor = db.cursor()\n",
    "\n",
    "class Phonebook:\n",
    "    def __init__ (self):\n",
    "        self.id = None\n",
    "        self.name=None\n",
    "        self.age = None\n",
    "    def __init__(self):\n",
    "        \n",
    "        q = \"insert into practice(name,age) values(%s,%s)\"\n",
    "        val = (self.name,self.age)\n",
    "        cursor.excecute(q,val)\n",
    "        db.commit()\n",
    "        message =\"Data store Successfully\"\n",
    "        print(message)\n",
    "        \n",
    "    def searchContact(self):\n",
    "        \n",
    "        q = f\"select * from cms where id ={self.id}\"\n",
    "        cursor.execute(q)\n",
    "        myresult = cursor.fetchall()\n",
    "        for x in myresult:\n",
    "            print('id',x[0])\n",
    "            print('name',x[1])\n",
    "            print('age',x[2])\n",
    "            \n",
    "    def updateContact(self):\n",
    "        q = f\"update cms set name={self.name} where id = {self.id}\"\n",
    "        cursor.execute(q)\n",
    "        db.commit()\n",
    "         \n",
    "    def allContact(self):\n",
    "        q = f\"select from cms\"\n",
    "        cursor.execute(q)\n",
    "        myresult = cursor.fetchall()\n",
    "        for x in myresult:\n",
    "            print('id',x[0],end=\" \")\n",
    "            print('name',x[1],end=\" \")\n",
    "            print('age',x[2],end=\" \")\n",
    "            print()\n",
    "            \n",
    "            \n",
    "    def deleteContact(self):\n",
    "        q = f\"delete from cms where id={self.id}\"\n",
    "        cursor.execute(q)\n",
    "        db.commit()\n",
    "        print(cursor.rowcount,\"record(s) deleted\")\n",
    "# pl\n",
    "while(True):\n",
    "    \n",
    "    print('1. for Add\\n 2. for Search\\n 3. for Delete\\n 4. for Update\\n 5. for Showall\\n 0. for Exit\\n ')\n",
    "    ch = input('enter choice:->')\n",
    "    if ch=='1':\n",
    "        \n",
    "        p = Phonebook()\n",
    "        p.name=input('Enter name')\n",
    "        p.age=input('Enter age')\n",
    "        p.saveContact()\n",
    "        \n",
    "    elif ch=='3':\n",
    "        \n",
    "        p = Phonebook()\n",
    "        p.id=input('Enter Id')\n",
    "        p.deleteContact\n",
    "    \n",
    "    elif ch=='2':\n",
    "        \n",
    "        p = Phonebook()\n",
    "        p.id=int(input('Enter Id'))\n",
    "        p.searchContact()\n",
    "    \n",
    "    elif ch=='4':\n",
    "        p = Phonebook()\n",
    "        p.id=int(input('Enter Id'))\n",
    "        p.name=input('Enter Name')\n",
    "        p.age=input('Enter Age')\n",
    "        p.updatecontact()\n",
    "        print('Data updated successfully')\n",
    "        \n",
    "    elif ch=='5':\n",
    "        p = Phonebook()\n",
    "        p.allContact()\n",
    "    elif ch=='0':\n",
    "        break\n",
    "    else:\n",
    "        print('Invalid choice')\n",
    "        \n",
    "        \n",
    "        \n",
    "        "
   ]
  },
  {
   "cell_type": "code",
   "execution_count": null,
   "metadata": {},
   "outputs": [],
   "source": []
  }
 ],
 "metadata": {
  "kernelspec": {
   "display_name": "Python 3",
   "language": "python",
   "name": "python3"
  },
  "language_info": {
   "codemirror_mode": {
    "name": "ipython",
    "version": 3
   },
   "file_extension": ".py",
   "mimetype": "text/x-python",
   "name": "python",
   "nbconvert_exporter": "python",
   "pygments_lexer": "ipython3",
   "version": "3.7.4"
  }
 },
 "nbformat": 4,
 "nbformat_minor": 2
}
