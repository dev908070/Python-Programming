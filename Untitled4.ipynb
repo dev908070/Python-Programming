{
 "cells": [
  {
   "cell_type": "code",
   "execution_count": 6,
   "metadata": {},
   "outputs": [
    {
     "name": "stdout",
     "output_type": "stream",
     "text": [
      "enter the no->4\n",
      "the factorial of no is:-> 24\n"
     ]
    }
   ],
   "source": [
    "def fac(n):\n",
    "    x=1\n",
    "    for i in range(1,n+1):\n",
    "     x=x*i\n",
    "    print (\"the factorial of no is:->\",x)\n",
    "x=int(input(\"enter the no->\"))\n",
    "fac(x)"
   ]
  },
  {
   "cell_type": "code",
   "execution_count": 7,
   "metadata": {},
   "outputs": [],
   "source": [
    "list_unique=[1,2,3,2,4,2,5,5]"
   ]
  },
  {
   "cell_type": "code",
   "execution_count": 10,
   "metadata": {},
   "outputs": [
    {
     "name": "stdout",
     "output_type": "stream",
     "text": [
      "[1, 3, 2, 4, 5]\n"
     ]
    }
   ],
   "source": [
    "def unique_list(l):\n",
    "    x=[]\n",
    "    for a in l:\n",
    "        if a not in x:\n",
    "            x.append(a)\n",
    "    return x\n",
    "print(unique_list([1,1,1,1,1,3,3,3,2,2,2,4,4,4,5,5]))"
   ]
  },
  {
   "cell_type": "code",
   "execution_count": null,
   "metadata": {},
   "outputs": [],
   "source": [
    "l1=input(\"enter the numbers saperated by ,:->\")\n",
    "list1=l1.split(\",\")\n"
   ]
  },
  {
   "cell_type": "code",
   "execution_count": 3,
   "metadata": {},
   "outputs": [
    {
     "name": "stdout",
     "output_type": "stream",
     "text": [
      "dev\n",
      "revesrse of the name:-ved\n"
     ]
    }
   ],
   "source": [
    "name=\"dev\"\n",
    "a=(f\"revesrse of the name:-{name[-1::-1]}\")\n",
    "print(name)\n",
    "print(a)"
   ]
  },
  {
   "cell_type": "code",
   "execution_count": 9,
   "metadata": {},
   "outputs": [
    {
     "data": {
      "text/plain": [
       "0"
      ]
     },
     "execution_count": 9,
     "metadata": {},
     "output_type": "execute_result"
    }
   ],
   "source": [
    "name.count()"
   ]
  },
  {
   "cell_type": "code",
   "execution_count": 10,
   "metadata": {},
   "outputs": [],
   "source": [
    "name += \"anand\""
   ]
  },
  {
   "cell_type": "code",
   "execution_count": 11,
   "metadata": {},
   "outputs": [
    {
     "name": "stdout",
     "output_type": "stream",
     "text": [
      "devanand\n"
     ]
    }
   ],
   "source": [
    "print(name)"
   ]
  },
  {
   "cell_type": "code",
   "execution_count": 2,
   "metadata": {},
   "outputs": [
    {
     "name": "stdout",
     "output_type": "stream",
     "text": [
      "57\n",
      "guess winning number:==>4\n",
      "too low\n"
     ]
    }
   ],
   "source": [
    "# winnig number\n",
    "import random \n",
    "a=random.randint(1,100)\n",
    "print(a)\n",
    "b=int(input(\"guess winning number:==>\"))\n",
    "if a<b:\n",
    "    print(\"too high\")\n",
    "elif a>b:\n",
    "    print(\"too low\")\n",
    "elif a==b:\n",
    "    print(\"you win\")\n",
    "else:\n",
    "    pass"
   ]
  },
  {
   "cell_type": "code",
   "execution_count": 4,
   "metadata": {},
   "outputs": [
    {
     "name": "stdout",
     "output_type": "stream",
     "text": [
      "a\n"
     ]
    }
   ],
   "source": [
    "while(10):\n",
    "    print(\"a\")\n",
    "    break"
   ]
  },
  {
   "cell_type": "code",
   "execution_count": 20,
   "metadata": {},
   "outputs": [
    {
     "name": "stdout",
     "output_type": "stream",
     "text": [
      "hey \n",
      "0\n",
      "hey \n",
      "1\n",
      "hey \n",
      "2\n",
      "hey \n",
      "3\n",
      "hey \n",
      "4\n",
      "hey \n",
      "5\n",
      "hey \n",
      "6\n",
      "hey \n",
      "7\n",
      "hey \n",
      "8\n",
      "hey \n",
      "9\n",
      "hey \n",
      "10\n"
     ]
    }
   ],
   "source": [
    "a=0\n",
    "while a<=10:\n",
    "    print(f\"hey \\n{a}\")\n",
    "    a=a+1"
   ]
  },
  {
   "cell_type": "code",
   "execution_count": null,
   "metadata": {},
   "outputs": [],
   "source": []
  }
 ],
 "metadata": {
  "kernelspec": {
   "display_name": "Python 3",
   "language": "python",
   "name": "python3"
  },
  "language_info": {
   "codemirror_mode": {
    "name": "ipython",
    "version": 3
   },
   "file_extension": ".py",
   "mimetype": "text/x-python",
   "name": "python",
   "nbconvert_exporter": "python",
   "pygments_lexer": "ipython3",
   "version": "3.7.4"
  }
 },
 "nbformat": 4,
 "nbformat_minor": 2
}
