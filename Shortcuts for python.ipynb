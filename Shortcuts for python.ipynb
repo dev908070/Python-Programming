{
 "cells": [
  {
   "cell_type": "markdown",
   "metadata": {},
   "source": [
    "Command Mode\n",
    "shift + enter run cell, select below\n",
    "ctrl + enter run cell\n",
    "option + enter run cell, insert below\n",
    "A insert cell above\n",
    "B insert cell below\n",
    "C copy cell\n",
    "V paste cell\n",
    "D , D delete selected cell\n",
    "shift + M merge selected cells, or current cell with cell below if only one cell selected\n",
    "I , I interrupt kernel\n",
    "0 , 0 restart kernel (with dialog)\n",
    "Y change cell to code mode\n",
    "M change cell to markdown mode (good for documentation)\n",
    "Edit Mode\n",
    "cmd + click for multi-cursor editing\n",
    "option + scrolling click for column editing\n",
    "cmd + / toggle comment lines\n",
    "tab code completion or indent\n",
    "shift + tab tooltip\n",
    "ctrl + shift + - split cell"
   ]
  }
 ],
 "metadata": {
  "kernelspec": {
   "display_name": "Python 3",
   "language": "python",
   "name": "python3"
  },
  "language_info": {
   "codemirror_mode": {
    "name": "ipython",
    "version": 3
   },
   "file_extension": ".py",
   "mimetype": "text/x-python",
   "name": "python",
   "nbconvert_exporter": "python",
   "pygments_lexer": "ipython3",
   "version": "3.7.3"
  }
 },
 "nbformat": 4,
 "nbformat_minor": 2
}
