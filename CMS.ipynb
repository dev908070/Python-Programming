{
 "cells": [
  {
   "cell_type": "code",
   "execution_count": 12,
   "metadata": {},
   "outputs": [
    {
     "ename": "SyntaxError",
     "evalue": "unexpected EOF while parsing (<ipython-input-12-ae2c97ebafd3>, line 19)",
     "output_type": "error",
     "traceback": [
      "\u001b[1;36m  File \u001b[1;32m\"<ipython-input-12-ae2c97ebafd3>\"\u001b[1;36m, line \u001b[1;32m19\u001b[0m\n\u001b[1;33m    \u001b[0m\n\u001b[1;37m    ^\u001b[0m\n\u001b[1;31mSyntaxError\u001b[0m\u001b[1;31m:\u001b[0m unexpected EOF while parsing\n"
     ]
    }
   ],
   "source": [
    "Name=[]\n",
    "Age=[]\n",
    "ID=[]\n",
    "PhoneNo=[]\n",
    "Address=[]\n",
    "print(\"Welcome To My Customer Management System\")\n",
    "while(1):\n",
    "    print(\"'1':Add user\")\n",
    "    print(\"'2':Delete user\")\n",
    "    print(\"'3':Modify\")\n",
    "    print(\"'4':Search\")\n",
    "    if(choice==1):\n",
    "        Name=input(\"Enter Name\")\n",
    "        Age=input(\"Enter Age\")\n",
    "        ID=input(\"Enter ID no\")\n",
    "        PhoneNo=input(\"Enter Phone no\")\n",
    "        Address=input(\"Enter Address\")\n",
    "    elif(choice==2):\n",
    "        Name.index(Name)\n",
    "        Age.index(Age)\n",
    "        ID.index(ID)\n",
    "        PhoneNo(PhoneNo)\n",
    "        Address.index(Adress)\n",
    "        Name.pop(Name)\n",
    "        Age.pop(Age)\n",
    "        ID.pop(Id)\n",
    "        PhoneNo.pop(PhoneNo)\n",
    "        Address.pop(Address)\n",
    "    elif(choice==3):\n",
    "        \n",
    "        \n",
    "        \n"
   ]
  },
  {
   "cell_type": "code",
   "execution_count": null,
   "metadata": {},
   "outputs": [],
   "source": []
  }
 ],
 "metadata": {
  "kernelspec": {
   "display_name": "Python 3",
   "language": "python",
   "name": "python3"
  },
  "language_info": {
   "codemirror_mode": {
    "name": "ipython",
    "version": 3
   },
   "file_extension": ".py",
   "mimetype": "text/x-python",
   "name": "python",
   "nbconvert_exporter": "python",
   "pygments_lexer": "ipython3",
   "version": "3.7.4"
  }
 },
 "nbformat": 4,
 "nbformat_minor": 2
}
