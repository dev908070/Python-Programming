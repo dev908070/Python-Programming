{
 "cells": [
  {
   "cell_type": "markdown",
   "metadata": {},
   "source": [
    "# Regular Expression"
   ]
  },
  {
   "cell_type": "code",
   "execution_count": 6,
   "metadata": {},
   "outputs": [
    {
     "name": "stdout",
     "output_type": "stream",
     "text": [
      "['d', 'c', 'e', 'a']\n"
     ]
    }
   ],
   "source": [
    "import re\n",
    "p = re.compile('[a-f]')\n",
    "print(p.findall('I study in cetpa'))"
   ]
  },
  {
   "cell_type": "code",
   "execution_count": 9,
   "metadata": {},
   "outputs": [
    {
     "name": "stdout",
     "output_type": "stream",
     "text": [
      "['11', '25', '07', '2019']\n"
     ]
    }
   ],
   "source": [
    "import re\n",
    "p = re.compile('\\d+')\n",
    "print(p.findall('I study in cetpa at 11 a.m on 25-07-2019 '))"
   ]
  },
  {
   "cell_type": "code",
   "execution_count": 15,
   "metadata": {},
   "outputs": [
    {
     "name": "stdout",
     "output_type": "stream",
     "text": [
      "[' ', ' ', ' ', ' ', ' ', ' ', '.', ' ', ' ', '-', '-', ',@@@@ ']\n"
     ]
    }
   ],
   "source": [
    "import re\n",
    "p = re.compile('\\W+') #\\w+ is use for alpha numeric char.\n",
    "# W+ is check for non alpha numeric char. as like special char spaces\n",
    "print(p.findall('I study in cetpa at 11 a.m on 25-07-2019,@@@@ '))"
   ]
  },
  {
   "cell_type": "code",
   "execution_count": 18,
   "metadata": {},
   "outputs": [
    {
     "name": "stdout",
     "output_type": "stream",
     "text": [
      "['ab', 'ab', 'ab', 'a', 'a', 'abbb']\n"
     ]
    }
   ],
   "source": [
    "import re\n",
    "p = re.compile('ab*')\n",
    "#* repace the occurance of a char\n",
    "print(p.findall('abababaaabbb '))"
   ]
  },
  {
   "cell_type": "markdown",
   "metadata": {},
   "source": [
    "# Split Function"
   ]
  },
  {
   "cell_type": "code",
   "execution_count": 30,
   "metadata": {},
   "outputs": [
    {
     "name": "stdout",
     "output_type": "stream",
     "text": [
      "[' on 25-', 'ug-1998 ', 't 11 ', '.m']\n"
     ]
    }
   ],
   "source": [
    "import re \n",
    "#re.split(pattern,string)\n",
    "print(re.split('[a-f]',' on 25-aug-1998 at 11 a.m'))"
   ]
  },
  {
   "cell_type": "markdown",
   "metadata": {},
   "source": [
    "# Sub Function"
   ]
  },
  {
   "cell_type": "code",
   "execution_count": 34,
   "metadata": {},
   "outputs": [
    {
     "name": "stdout",
     "output_type": "stream",
     "text": [
      "I am a Exstudent of cetpa\n"
     ]
    }
   ],
   "source": [
    "print(re.sub('student','Exstudent','I am a student of cetpa'))"
   ]
  },
  {
   "cell_type": "code",
   "execution_count": 36,
   "metadata": {},
   "outputs": [
    {
     "name": "stdout",
     "output_type": "stream",
     "text": [
      "I am a Exstudent of cetpa\n"
     ]
    }
   ],
   "source": [
    "print(re.sub('STUDENT','Exstudent','I am a StUDENT of cetpa',flags=re.IGNORECASE))"
   ]
  },
  {
   "cell_type": "code",
   "execution_count": null,
   "metadata": {},
   "outputs": [],
   "source": []
  }
 ],
 "metadata": {
  "kernelspec": {
   "display_name": "Python 3",
   "language": "python",
   "name": "python3"
  },
  "language_info": {
   "codemirror_mode": {
    "name": "ipython",
    "version": 3
   },
   "file_extension": ".py",
   "mimetype": "text/x-python",
   "name": "python",
   "nbconvert_exporter": "python",
   "pygments_lexer": "ipython3",
   "version": "3.7.3"
  }
 },
 "nbformat": 4,
 "nbformat_minor": 2
}
