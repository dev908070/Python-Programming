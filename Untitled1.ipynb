{
 "cells": [
  {
   "cell_type": "code",
   "execution_count": 2,
   "metadata": {},
   "outputs": [
    {
     "name": "stdout",
     "output_type": "stream",
     "text": [
      " Name:-dev\n",
      "Enter the valid Input\n",
      "Phone No9718970575\n"
     ]
    },
    {
     "ename": "NameError",
     "evalue": "name 'isnum' is not defined",
     "output_type": "error",
     "traceback": [
      "\u001b[1;31m---------------------------------------------------------------------------\u001b[0m",
      "\u001b[1;31mNameError\u001b[0m                                 Traceback (most recent call last)",
      "\u001b[1;32m<ipython-input-2-b81ac18c7595>\u001b[0m in \u001b[0;36m<module>\u001b[1;34m\u001b[0m\n\u001b[0;32m     48\u001b[0m     \u001b[0mprint\u001b[0m\u001b[1;33m(\u001b[0m\u001b[1;34m\"Enter the valid Input\"\u001b[0m\u001b[1;33m)\u001b[0m\u001b[1;33m\u001b[0m\u001b[1;33m\u001b[0m\u001b[0m\n\u001b[0;32m     49\u001b[0m \u001b[0mPhone_No\u001b[0m\u001b[1;33m=\u001b[0m\u001b[0mint\u001b[0m\u001b[1;33m(\u001b[0m\u001b[0minput\u001b[0m\u001b[1;33m(\u001b[0m\u001b[1;34m\"Phone No\"\u001b[0m\u001b[1;33m)\u001b[0m\u001b[1;33m)\u001b[0m\u001b[1;33m\u001b[0m\u001b[1;33m\u001b[0m\u001b[0m\n\u001b[1;32m---> 50\u001b[1;33m \u001b[0misnum\u001b[0m\u001b[1;33m\u001b[0m\u001b[1;33m\u001b[0m\u001b[0m\n\u001b[0m\u001b[0;32m     51\u001b[0m \u001b[0mqty\u001b[0m \u001b[1;33m=\u001b[0m\u001b[0mint\u001b[0m\u001b[1;33m(\u001b[0m\u001b[0minput\u001b[0m\u001b[1;33m(\u001b[0m\u001b[1;34m\"how many pizza you want to order =\"\u001b[0m\u001b[1;33m)\u001b[0m\u001b[1;33m)\u001b[0m\u001b[1;33m\u001b[0m\u001b[1;33m\u001b[0m\u001b[0m\n\u001b[0;32m     52\u001b[0m \u001b[0mpizzaqty\u001b[0m \u001b[1;33m=\u001b[0m \u001b[0mqty\u001b[0m\u001b[1;33m+\u001b[0m\u001b[1;36m1\u001b[0m\u001b[1;33m\u001b[0m\u001b[1;33m\u001b[0m\u001b[0m\n",
      "\u001b[1;31mNameError\u001b[0m: name 'isnum' is not defined"
     ]
    }
   ],
   "source": [
    "order = []\n",
    "baselist = []\n",
    "stylelist= []\n",
    "toppinglist= []\n",
    "\n",
    "pizza ={\n",
    "    'category':\n",
    "        {\n",
    "            'crust base':\n",
    "        {          'thin':4.00,\n",
    "                   'thick':6.50,\n",
    "                   'woodfired':8.50,\n",
    "       \n",
    "        }\n",
    "    ,     \n",
    "            'cheese style':\n",
    "        {         'chedder':5,\n",
    "                  'colby':5,\n",
    "                  'edam':5,\n",
    "                  'emmentel':5,\n",
    "                  'gruyere':5 ,\n",
    "                  'mozzarela':5,\n",
    "                  'provolone':5,\n",
    "                  'picotta':5,\n",
    "            \n",
    "        }\n",
    "        ,\n",
    "             'topping choice':\n",
    "        \n",
    "        {              'tomato':0.75,\n",
    "                       'mushrooms':0.75,\n",
    "                       'pepperoni':0.50,\n",
    "                       'onion':0.50,\n",
    "                       'black olives':0.75,\n",
    "                       'green peppers':0.50,\n",
    "                       'anchovice':0.25,\n",
    "                       'garlic':0.50,\n",
    "                       'ham':1.50,\n",
    "                       'bacon':1.25,\n",
    "          }\n",
    "          }\n",
    "        }\n",
    "Name=str(input(\" Name:-\"))\n",
    "Name.isalpha()\n",
    "if (Name==True):\n",
    "    print(\"\\n\")\n",
    "else:\n",
    "    print(\"Enter the valid Input\")\n",
    "Phone_No=int(input(\"Phone No\"))\n",
    "\n",
    "qty =int(input(\"how many pizza you want to order =\"))\n",
    "pizzaqty = qty+1\n",
    "temp =0\n",
    "while(True):\n",
    "    temp=temp+1\n",
    "    if pizzaqty == temp:\n",
    "        break\n",
    "    for values in pizza['category']:\n",
    "        print(\"----\",values)\n",
    "        \n",
    "    print(\"please select step 1\")\n",
    "    \n",
    "    for values in pizza['category']['crust base']:\n",
    "        print(\"------\",values)\n",
    "    print(\"step 1:\")\n",
    "    Base = input(\"please select your base\")\n",
    "    baselist.append(Base)\n",
    "    \n",
    "    for values in pizza['category']['cheese style']:\n",
    "        print(\"-----\",values)\n",
    "    print(\"step 2:\")\n",
    "    style = input(\"please select your style\")\n",
    "    stylelist.append(style)\n",
    "    \n",
    "    for values in pizza['category']['topping choice']:\n",
    "        print(\"------\",values)\n",
    "    print(\"step 3:\")\n",
    "    topping = input(\"please select your topping choice:\")\n",
    "    toppinglist.append(topping)\n",
    "    \n",
    "    print(temp,\"your order selected\")\n",
    "    \n",
    "print(\"No\\tBase\\tCheesestyle\\tTopping\\tPrice\")\n",
    "for v in range(len(baselist)):\n",
    "    \n",
    "    print(v+1,end=\"\\t\")\n",
    "    print(baselist[v], end=\"\\t\")\n",
    "    print(stylelist[v], end=\"\\t\\t\")\n",
    "    print(toppinglist[v], end=\"\\t\\t\\t\")\n",
    "    print(pizza['category']['crust base'][baselist[v]] +pizza['category']['cheese style'][stylelisyt[v]] +pizza['category']['topping choice'][toppinglist[v]],end=\"\\t \\t \\t \\t\")\n",
    "    \n",
    "    total=pizza['category']['crust base'][baselist[v]] +pizza['category']['cheese style'][stylelisyt[v]] +pizza['category']['topping choice'][toppinglist[v]]\n",
    "    order.append(total)\n",
    "    \n",
    "    \n",
    "    print()\n",
    "    \n",
    "    \n",
    "odrtotal=0    \n",
    "for o in order:\n",
    "    odrtotal=odrtotal=o\n",
    "print(\"\"*50)\n",
    "print(\"Total:\\t\\t\\t\\t\\t\\t\\t\\t\",end=\"\")\n",
    "print(odrtotal,enfd=\"\")\n"
   ]
  },
  {
   "cell_type": "code",
   "execution_count": 3,
   "metadata": {},
   "outputs": [
    {
     "name": "stdout",
     "output_type": "stream",
     "text": [
      "Please Enter Your Name:-34d\n"
     ]
    },
    {
     "data": {
      "text/plain": [
       "True"
      ]
     },
     "execution_count": 3,
     "metadata": {},
     "output_type": "execute_result"
    }
   ],
   "source": [
    "Name=(input(\"Please Enter Your Name:-\"))\n",
    "Name.isalnum()"
   ]
  },
  {
   "cell_type": "code",
   "execution_count": 2,
   "metadata": {},
   "outputs": [],
   "source": [
    "def Add(x,y):\n",
    "    z=x+y\n",
    "    return(z)\n",
    "def Sub(x,y):\n",
    "    z=x-y\n",
    "    return(z)\n",
    "def Mul(x,y):\n",
    "    z=x*y\n",
    "    return(z)\n",
    "def Div(x,y):\n",
    "    z=x%y\n",
    "    return(z)"
   ]
  },
  {
   "cell_type": "code",
   "execution_count": 3,
   "metadata": {},
   "outputs": [
    {
     "data": {
      "text/plain": [
       "11"
      ]
     },
     "execution_count": 3,
     "metadata": {},
     "output_type": "execute_result"
    }
   ],
   "source": [
    "Add(4,7)"
   ]
  },
  {
   "cell_type": "code",
   "execution_count": 5,
   "metadata": {},
   "outputs": [
    {
     "data": {
      "text/plain": [
       "6561"
      ]
     },
     "execution_count": 5,
     "metadata": {},
     "output_type": "execute_result"
    }
   ],
   "source": [
    "Mul(9,4)"
   ]
  },
  {
   "cell_type": "code",
   "execution_count": 1,
   "metadata": {},
   "outputs": [
    {
     "name": "stdout",
     "output_type": "stream",
     "text": [
      "select operation\n",
      "1.add\n",
      "2.substract\n",
      "3.multiply\n",
      "4.Divide\n",
      "5.exponent\n",
      "enter first number5\n",
      "enter second number6\n",
      "enter choice 1/2/3/4/5->1\n",
      "11\n"
     ]
    }
   ],
   "source": [
    "def Add(x,y):\n",
    "    return(x+y)\n",
    "def Sub(x,y):\n",
    "    z=x-y\n",
    "    return(z)\n",
    "def Mul(x,y):\n",
    "    z=x*y\n",
    "    return(z)\n",
    "def Div(x,y):\n",
    "    z=x%y\n",
    "    return(z)\n",
    "def Exp(x):\n",
    "    z=x**2\n",
    "    return(z)\n",
    "print('select operation')\n",
    "print(\"1.add\")\n",
    "print(\"2.substract\")\n",
    "print(\"3.multiply\")\n",
    "print(\"4.Divide\")\n",
    "print(\"5.exponent\")\n",
    "x = int(input(\"enter first number\"))\n",
    "y = int(input(\"enter second number\"))\n",
    "\n",
    "choice=input(\"enter choice 1/2/3/4/5->\")\n",
    "if(choice=='1'):\n",
    "    print(Add(x,y))\n",
    "elif(choice=='2'):\n",
    "    print(Sub(x,y))\n",
    "elif(choice=='3'):\n",
    "    print(Mul(x,y))\n",
    "elif(choice=='4'):\n",
    "    print(Div(x,y))\n",
    "elif(choice=='5'):\n",
    "    print(Exp(x,y))\n",
    "else:\n",
    "    print(\"invalid choice\")"
   ]
  },
  {
   "cell_type": "code",
   "execution_count": null,
   "metadata": {},
   "outputs": [],
   "source": []
  }
 ],
 "metadata": {
  "kernelspec": {
   "display_name": "Python 3",
   "language": "python",
   "name": "python3"
  },
  "language_info": {
   "codemirror_mode": {
    "name": "ipython",
    "version": 3
   },
   "file_extension": ".py",
   "mimetype": "text/x-python",
   "name": "python",
   "nbconvert_exporter": "python",
   "pygments_lexer": "ipython3",
   "version": "3.7.4"
  }
 },
 "nbformat": 4,
 "nbformat_minor": 2
}
