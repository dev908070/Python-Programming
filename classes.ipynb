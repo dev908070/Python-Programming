{
 "cells": [
  {
   "cell_type": "code",
   "execution_count": 11,
   "metadata": {},
   "outputs": [],
   "source": [
    "def check_prime(n):\n",
    "    if(n==1):\n",
    "        return False\n",
    "    elif(n==2):\n",
    "        return True\n",
    "    else:\n",
    "        for x in range(2,n):\n",
    "            if(n%x==0):\n",
    "                return False\n",
    "        return True"
   ]
  },
  {
   "cell_type": "code",
   "execution_count": 12,
   "metadata": {},
   "outputs": [
    {
     "data": {
      "text/plain": [
       "False"
      ]
     },
     "execution_count": 12,
     "metadata": {},
     "output_type": "execute_result"
    }
   ],
   "source": [
    "check_prime(9)"
   ]
  },
  {
   "cell_type": "code",
   "execution_count": 13,
   "metadata": {},
   "outputs": [],
   "source": [
    "a=\"I study in CETPA\"\n",
    "for i in (a):\n",
    "    if(a.islower==True):\n",
    "        x=x+1\n"
   ]
  },
  {
   "cell_type": "code",
   "execution_count": 2,
   "metadata": {},
   "outputs": [
    {
     "name": "stdout",
     "output_type": "stream",
     "text": [
      "😀\n"
     ]
    }
   ],
   "source": [
    "print(\"\\U0001F600\")"
   ]
  },
  {
   "cell_type": "code",
   "execution_count": 3,
   "metadata": {},
   "outputs": [
    {
     "name": "stdout",
     "output_type": "stream",
     "text": [
      "💞\n"
     ]
    }
   ],
   "source": [
    "print(\"\\U0001F49E\")"
   ]
  },
  {
   "cell_type": "code",
   "execution_count": 4,
   "metadata": {},
   "outputs": [
    {
     "name": "stdout",
     "output_type": "stream",
     "text": [
      "👫\n"
     ]
    }
   ],
   "source": [
    "print(\"\\U0001F46B\")"
   ]
  },
  {
   "cell_type": "code",
   "execution_count": 16,
   "metadata": {},
   "outputs": [
    {
     "name": "stdout",
     "output_type": "stream",
     "text": [
      "Dev Gautam\n"
     ]
    }
   ],
   "source": [
    "first_name = \"Dev\"\n",
    "last_name = \"Gautam\"\n",
    "fullname = first_name  +\" \"+  last_name\n",
    "print(fullname)"
   ]
  },
  {
   "cell_type": "code",
   "execution_count": 17,
   "metadata": {},
   "outputs": [
    {
     "name": "stdout",
     "output_type": "stream",
     "text": [
      "Dev Gautam\n"
     ]
    }
   ],
   "source": [
    "print(fullname)"
   ]
  },
  {
   "cell_type": "code",
   "execution_count": 20,
   "metadata": {},
   "outputs": [
    {
     "name": "stdout",
     "output_type": "stream",
     "text": [
      "Enter your name:->Dev\n",
      "Dev 22\n"
     ]
    }
   ],
   "source": [
    "name=input(\"Enter your name:->\")\n",
    "age=22\n",
    "print(name,age)"
   ]
  },
  {
   "cell_type": "code",
   "execution_count": 28,
   "metadata": {},
   "outputs": [
    {
     "name": "stdout",
     "output_type": "stream",
     "text": [
      "enter first no3\n",
      "enter second no4\n",
      "Total is 12\n"
     ]
    }
   ],
   "source": [
    "n1=int(input(\"enter first no\"))\n",
    "n2=int(input(\"enter second no\"))\n",
    "total=n1*n2\n",
    "print(\"Total is\",+total)\n"
   ]
  },
  {
   "cell_type": "code",
   "execution_count": null,
   "metadata": {},
   "outputs": [],
   "source": [
    "def check(a):\n",
    "    x=0,y=0,z=0\n",
    "    for i in a:\n",
    "        if(i.islower()==True):\n",
    "            x=x+1\n",
    "        elif(i.isupper()==True):\n",
    "            y=Y+1\n",
    "        else:\n",
    "            z=z+1\n",
    "            print(\"upper case\",x)\n",
    "            print(\"lower case\",y)\n",
    "        a="
   ]
  },
  {
   "cell_type": "code",
   "execution_count": 8,
   "metadata": {},
   "outputs": [
    {
     "name": "stdout",
     "output_type": "stream",
     "text": [
      "<__main__.Person object at 0x000002D0F9EDB748>\n"
     ]
    }
   ],
   "source": [
    "class Person():\n",
    "    pass\n",
    "p=Person()\n",
    "print(p)"
   ]
  },
  {
   "cell_type": "code",
   "execution_count": 12,
   "metadata": {},
   "outputs": [
    {
     "name": "stdout",
     "output_type": "stream",
     "text": [
      "Dev\n"
     ]
    }
   ],
   "source": [
    "class Person():\n",
    "    name=\"Dev\"\n",
    "P=Person()\n",
    "print(P.name)"
   ]
  },
  {
   "cell_type": "code",
   "execution_count": 20,
   "metadata": {},
   "outputs": [
    {
     "name": "stdout",
     "output_type": "stream",
     "text": [
      "Dev\n",
      "22\n",
      "fbd\n"
     ]
    }
   ],
   "source": [
    "class Person():\n",
    "    name=\"Dev\"\n",
    "    age = 22\n",
    "    add =\"fbd\"\n",
    "p=Person()\n",
    "print(p.name)\n",
    "print(p.age)\n",
    "print(p.add)"
   ]
  },
  {
   "cell_type": "code",
   "execution_count": 30,
   "metadata": {},
   "outputs": [
    {
     "name": "stdout",
     "output_type": "stream",
     "text": [
      "Sakshi\n",
      "Dev\n"
     ]
    }
   ],
   "source": [
    "class Person():\n",
    "    name=\"Sakshi\"\n",
    "    def change_name(self,new_name):\n",
    "        self.name=new_name\n",
    "Ps=Person()\n",
    "print(Ps.name)\n",
    "Ps.change_name(\"Dev\")\n",
    "print(Ps.name)"
   ]
  },
  {
   "cell_type": "code",
   "execution_count": null,
   "metadata": {},
   "outputs": [],
   "source": [
    "#Write a program to to find a string is palindrom or not\n",
    "b=str(input(\"Enter a string\"))\n",
    "for i in range(len(b)):\n",
    "    b=b+1\n",
    "    \n",
    "    "
   ]
  },
  {
   "cell_type": "code",
   "execution_count": null,
   "metadata": {},
   "outputs": [],
   "source": []
  },
  {
   "cell_type": "code",
   "execution_count": 1,
   "metadata": {},
   "outputs": [
    {
     "name": "stdout",
     "output_type": "stream",
     "text": [
      "Enter a list element separated by space 2 3 4 5\n",
      "Calculating sum of element of input list\n",
      "Sum =  14\n"
     ]
    }
   ],
   "source": [
    "input_string = input(\"Enter a list element separated by space \")\n",
    "list  = input_string.split()\n",
    "print(\"Calculating sum of element of input list\")\n",
    "sum = 0\n",
    "for num in list:\n",
    "    sum += int (num)\n",
    "print(\"Sum = \",sum)"
   ]
  },
  {
   "cell_type": "code",
   "execution_count": 5,
   "metadata": {
    "scrolled": true
   },
   "outputs": [
    {
     "name": "stdout",
     "output_type": "stream",
     "text": [
      "enter the numbers saperated by space:->2 3 4 5 6\n",
      "multiplication of elements in a list is 720\n"
     ]
    }
   ],
   "source": [
    "#multiplication of elements in a list\n",
    "l1=input(\"enter the numbers saperated by space:->\")\n",
    "list =l1.split()\n",
    "multiplication = 1\n",
    "for num in list:\n",
    "    multiplication *= int(num)\n",
    "print(\"multiplication of elements in a list is\",multiplication)"
   ]
  },
  {
   "cell_type": "code",
   "execution_count": 3,
   "metadata": {},
   "outputs": [
    {
     "ename": "SyntaxError",
     "evalue": "invalid syntax (<ipython-input-3-e54bc20573eb>, line 2)",
     "output_type": "error",
     "traceback": [
      "\u001b[1;36m  File \u001b[1;32m\"<ipython-input-3-e54bc20573eb>\"\u001b[1;36m, line \u001b[1;32m2\u001b[0m\n\u001b[1;33m    def in_range(200,500):\u001b[0m\n\u001b[1;37m                   ^\u001b[0m\n\u001b[1;31mSyntaxError\u001b[0m\u001b[1;31m:\u001b[0m invalid syntax\n"
     ]
    }
   ],
   "source": [
    "#waf cheack wheather a no is in given range\n",
    "def in_range():\n",
    "    for\n",
    "        if i <=200 and i>=500:\n",
    "            print(\"In Range\")\n",
    "        else:\n",
    "            print(\"Not inn Range\")"
   ]
  },
  {
   "cell_type": "code",
   "execution_count": 2,
   "metadata": {},
   "outputs": [
    {
     "ename": "TypeError",
     "evalue": "in_range() takes 0 positional arguments but 1 was given",
     "output_type": "error",
     "traceback": [
      "\u001b[1;31m---------------------------------------------------------------------------\u001b[0m",
      "\u001b[1;31mTypeError\u001b[0m                                 Traceback (most recent call last)",
      "\u001b[1;32m<ipython-input-2-bd5eeaa56d5e>\u001b[0m in \u001b[0;36m<module>\u001b[1;34m\u001b[0m\n\u001b[1;32m----> 1\u001b[1;33m \u001b[0min_range\u001b[0m\u001b[1;33m(\u001b[0m\u001b[1;36m400\u001b[0m\u001b[1;33m)\u001b[0m\u001b[1;33m\u001b[0m\u001b[1;33m\u001b[0m\u001b[0m\n\u001b[0m",
      "\u001b[1;31mTypeError\u001b[0m: in_range() takes 0 positional arguments but 1 was given"
     ]
    }
   ],
   "source": [
    "in_range(400)"
   ]
  },
  {
   "cell_type": "code",
   "execution_count": 8,
   "metadata": {},
   "outputs": [],
   "source": [
    "class Student():\n",
    "    \n",
    "    def __init__ (self,name,roll_no,marks):\n",
    "        self.name=name\n",
    "        self.roll_no=roll_no\n",
    "        self.marks=marks\n",
    "    def talk(self):\n",
    "        print(\"Student name is:->\",self.name)\n",
    "        print(\"Student roll_no is:->\",self.roll_no)\n",
    "        print(\"Student marks is:->\",self.marks)\n",
    "   \n",
    "        \n",
    "        "
   ]
  },
  {
   "cell_type": "code",
   "execution_count": 9,
   "metadata": {},
   "outputs": [
    {
     "name": "stdout",
     "output_type": "stream",
     "text": [
      "Student name is:-> dev\n",
      "Student roll_no is:-> 23\n",
      "Student marks is:-> 70\n"
     ]
    }
   ],
   "source": [
    "s1 = Student(\"dev\",23,70)\n",
    "s1.talk()"
   ]
  },
  {
   "cell_type": "code",
   "execution_count": 19,
   "metadata": {},
   "outputs": [],
   "source": [
    "class Animal():\n",
    "    def eat(self):\n",
    "        print(\"eating\")\n",
    "class dog():\n",
    "    def bark(self):\n",
    "        print(\"barking\")\n",
    "class bird(Animal,dog):\n",
    "    def fly(self):\n",
    "        print(\"flying\")"
   ]
  },
  {
   "cell_type": "code",
   "execution_count": 20,
   "metadata": {},
   "outputs": [
    {
     "name": "stdout",
     "output_type": "stream",
     "text": [
      "eating\n",
      "barking\n",
      "flying\n"
     ]
    }
   ],
   "source": [
    "a=bird()\n",
    "a.eat()\n",
    "a.bark()\n",
    "a.fly()"
   ]
  },
  {
   "cell_type": "code",
   "execution_count": 2,
   "metadata": {},
   "outputs": [
    {
     "name": "stdout",
     "output_type": "stream",
     "text": [
      "100000\n",
      "104000\n"
     ]
    }
   ],
   "source": [
    "class  Employee:\n",
    "    raise_amount = 1.04\n",
    "    def __init__ (self,first,last,pay):\n",
    "        self.first = first\n",
    "        self.last = last\n",
    "        self.email = first + '.'+last +'@gmail.com'\n",
    "        self.pay = pay\n",
    "        \n",
    "        \n",
    "    def fullname():\n",
    "        return '{} {}'.format(self.first,self.last)\n",
    "    \n",
    "    def apply_raise(self):\n",
    "        self.pay = int(self.pay * Employee.raise_amount)\n",
    "        \n",
    "\n",
    "emp1 = Employee('Dev','Gautam',100000)\n",
    "emp2 = Employee('Brijesh','Maurya',90000)\n",
    "print(emp1.pay)\n",
    "emp1.apply_raise()\n",
    "print(emp1.pay)"
   ]
  },
  {
   "cell_type": "code",
   "execution_count": 3,
   "metadata": {},
   "outputs": [
    {
     "name": "stdout",
     "output_type": "stream",
     "text": [
      "{'first': 'Dev', 'last': 'Gautam', 'email': 'Dev.Gautam@gmail.com', 'pay': 104000}\n"
     ]
    }
   ],
   "source": [
    "print(emp1.__dict__)"
   ]
  },
  {
   "cell_type": "code",
   "execution_count": 4,
   "metadata": {},
   "outputs": [
    {
     "name": "stdout",
     "output_type": "stream",
     "text": [
      "{'__module__': '__main__', 'raise_amount': 1.04, '__init__': <function Employee.__init__ at 0x000001FDB54AB048>, 'fullname': <function Employee.fullname at 0x000001FDB54AB598>, 'apply_raise': <function Employee.apply_raise at 0x000001FDB54AB510>, '__dict__': <attribute '__dict__' of 'Employee' objects>, '__weakref__': <attribute '__weakref__' of 'Employee' objects>, '__doc__': None}\n"
     ]
    }
   ],
   "source": [
    "print(Employee.__dict__)"
   ]
  },
  {
   "cell_type": "code",
   "execution_count": 8,
   "metadata": {},
   "outputs": [
    {
     "name": "stdout",
     "output_type": "stream",
     "text": [
      "0\n",
      "100000\n",
      "90000\n",
      "1.05\n"
     ]
    }
   ],
   "source": [
    "class  Employee:\n",
    "    raise_amount = 1.04\n",
    "    no_of_emp = 0\n",
    "    def __init__ (self,first,last,pay):\n",
    "        self.first = first\n",
    "        self.last = last\n",
    "        self.email = first + '.'+last +'@gmail.com'\n",
    "        self.pay = pay\n",
    "        Employee.no_of_emp +=1\n",
    "        \n",
    "        \n",
    "    def fullname():\n",
    "        return '{} {}'.format(self.first,self.last)\n",
    "    \n",
    "    def apply_raise(self):\n",
    "        self.pay = int(self.pay * Employee.raise_amount)\n",
    "    \n",
    "    @classmethod\n",
    "    def set_raise_amt(cls,amount):\n",
    "        cls.raise_amount = amount\n",
    "        \n",
    "print(Employee.no_of_emp)\n",
    "emp1 = Employee('Dev','Gautam',100000)\n",
    "emp2 = Employee('Brijesh','Maurya',90000)\n",
    "\n",
    "Employee.set_raise_amt(1.05)\n",
    "emp1.set_raise_amt(1.05)\n",
    "print(emp1.pay)\n",
    "print(emp2.pay)\n",
    "\n",
    "print(Employee.raise_amount)"
   ]
  },
  {
   "cell_type": "markdown",
   "metadata": {},
   "source": [
    "# class Methods"
   ]
  },
  {
   "cell_type": "raw",
   "metadata": {},
   "source": [
    "1.regular(self)\n",
    "2.classmethod(cls)\n",
    "3.staticmethod(a,b)"
   ]
  },
  {
   "cell_type": "code",
   "execution_count": 10,
   "metadata": {},
   "outputs": [
    {
     "name": "stdout",
     "output_type": "stream",
     "text": [
      "jhon.dee@gmail.com\n",
      "jhon.dee@gmail.com\n"
     ]
    }
   ],
   "source": [
    "emp_str_1 = 'jhon-dee-60000'\n",
    "emp_str_2 = 'raghav-sen-70000'\n",
    "emp_str_3 = 'brijesh-maurya-80000'\n",
    "first,last,pay = emp_str_1.split('-')\n",
    "new_emp_1 = Employee(first,last,pay)\n",
    "new_emp_2 = Employee(first,last,pay)\n",
    "\n",
    "print(new_emp_1.email)\n",
    "print(new_emp_2.email)\n",
    "\n",
    "\n"
   ]
  },
  {
   "cell_type": "raw",
   "metadata": {},
   "source": [
    "2.classmethods(cls)\n"
   ]
  },
  {
   "cell_type": "code",
   "execution_count": 11,
   "metadata": {},
   "outputs": [
    {
     "ename": "NameError",
     "evalue": "name 'new_' is not defined",
     "output_type": "error",
     "traceback": [
      "\u001b[1;31m---------------------------------------------------------------------------\u001b[0m",
      "\u001b[1;31mNameError\u001b[0m                                 Traceback (most recent call last)",
      "\u001b[1;32m<ipython-input-11-c875afbbbeee>\u001b[0m in \u001b[0;36m<module>\u001b[1;34m\u001b[0m\n\u001b[0;32m     23\u001b[0m         \u001b[0mfirst\u001b[0m\u001b[1;33m,\u001b[0m\u001b[0mlast\u001b[0m\u001b[1;33m,\u001b[0m\u001b[0mpay\u001b[0m \u001b[1;33m=\u001b[0m \u001b[0memp_str\u001b[0m\u001b[1;33m.\u001b[0m\u001b[0msplit\u001b[0m\u001b[1;33m(\u001b[0m\u001b[1;34m'-'\u001b[0m\u001b[1;33m)\u001b[0m\u001b[1;33m\u001b[0m\u001b[1;33m\u001b[0m\u001b[0m\n\u001b[0;32m     24\u001b[0m         \u001b[1;32mreturn\u001b[0m \u001b[0mcls\u001b[0m\u001b[1;33m(\u001b[0m\u001b[0mfirst\u001b[0m\u001b[1;33m,\u001b[0m\u001b[0mlast\u001b[0m \u001b[1;33m,\u001b[0m\u001b[0mpay\u001b[0m\u001b[1;33m)\u001b[0m\u001b[1;33m\u001b[0m\u001b[1;33m\u001b[0m\u001b[0m\n\u001b[1;32m---> 25\u001b[1;33m \u001b[0mnew_\u001b[0m\u001b[1;33m\u001b[0m\u001b[1;33m\u001b[0m\u001b[0m\n\u001b[0m\u001b[0;32m     26\u001b[0m \u001b[1;33m\u001b[0m\u001b[0m\n\u001b[0;32m     27\u001b[0m \u001b[1;31m#print(Employee.no_of_emp)\u001b[0m\u001b[1;33m\u001b[0m\u001b[1;33m\u001b[0m\u001b[1;33m\u001b[0m\u001b[0m\n",
      "\u001b[1;31mNameError\u001b[0m: name 'new_' is not defined"
     ]
    }
   ],
   "source": [
    "class  Employee:\n",
    "    raise_amount = 1.04\n",
    "    no_of_emp = 0\n",
    "    def __init__ (self,first,last,pay):\n",
    "        self.first = first\n",
    "        self.last = last\n",
    "        self.email = first + '.'+last +'@gmail.com'\n",
    "        self.pay = pay\n",
    "        Employee.no_of_emp +=1\n",
    "        \n",
    "        \n",
    "    def fullname():\n",
    "        return '{} {}'.format(self.first,self.last)\n",
    "    \n",
    "    def apply_raise(self):\n",
    "        self.pay = int(self.pay * Employee.raise_amount)\n",
    "    \n",
    "    @classmethod\n",
    "    def set_raise_amt(cls,amount):\n",
    "        cls.raise_amount = amount\n",
    "    @classmethod\n",
    "    def from_string(cls,emp_str):\n",
    "        first,last,pay = emp_str.split('-')\n",
    "        return cls(first,last ,pay)\n",
    "new_\n",
    "        \n",
    "#print(Employee.no_of_emp)\n",
    "#emp1 = Employee('Dev','Gautam',100000)\n",
    "#emp2 = Employee('Brijesh','Maurya',90000)\n",
    "\n",
    "#Employee.set_raise_amt(1.05)\n",
    "#emp1.set_raise_amt(1.05)\n",
    "#print(emp1.pay)\n",
    "#print(emp2.pay)\n",
    "\n",
    "#print(Employee.raise_amount)"
   ]
  },
  {
   "cell_type": "code",
   "execution_count": null,
   "metadata": {},
   "outputs": [],
   "source": []
  }
 ],
 "metadata": {
  "kernelspec": {
   "display_name": "Python 3",
   "language": "python",
   "name": "python3"
  },
  "language_info": {
   "codemirror_mode": {
    "name": "ipython",
    "version": 3
   },
   "file_extension": ".py",
   "mimetype": "text/x-python",
   "name": "python",
   "nbconvert_exporter": "python",
   "pygments_lexer": "ipython3",
   "version": "3.7.4"
  }
 },
 "nbformat": 4,
 "nbformat_minor": 2
}
