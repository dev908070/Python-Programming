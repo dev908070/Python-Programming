{
 "cells": [
  {
   "cell_type": "markdown",
   "metadata": {},
   "source": [
    "# reading and writing state of object buy using of pickle module"
   ]
  },
  {
   "cell_type": "code",
   "execution_count": 8,
   "metadata": {},
   "outputs": [
    {
     "name": "stdout",
     "output_type": "stream",
     "text": [
      "pickling of object is completed\n",
      "printing object information\n"
     ]
    }
   ],
   "source": [
    "import pickle\n",
    "class Employee:\n",
    "    def __init__ (self,eno,ename,eid,eadd):\n",
    "        self.eno = eno\n",
    "        self.ename = ename\n",
    "        self.eid = eid\n",
    "        self.eadd = eadd\n",
    "    def display(self):\n",
    "        print('self.eno',\"\\t\",'self.ename',\"\\t\",'self.eid',\"\\t\",'self.eadd',\"\\t\")\n",
    "with open(\"emp.dat\",'wb') as f:\n",
    "    e=Employee(101,'Rahul',2141,'Patel nager')\n",
    "    pickle.dump(e,f)\n",
    "    print(\"pickling of object is completed\")\n",
    "with open(\"emp.dat\",'rb') as f:\n",
    "    obj=pickle.load(f)\n",
    "    print(\"printing object information\")\n",
    "    obj.display"
   ]
  },
  {
   "cell_type": "code",
   "execution_count": null,
   "metadata": {},
   "outputs": [],
   "source": []
  }
 ],
 "metadata": {
  "kernelspec": {
   "display_name": "Python 3",
   "language": "python",
   "name": "python3"
  },
  "language_info": {
   "codemirror_mode": {
    "name": "ipython",
    "version": 3
   },
   "file_extension": ".py",
   "mimetype": "text/x-python",
   "name": "python",
   "nbconvert_exporter": "python",
   "pygments_lexer": "ipython3",
   "version": "3.7.4"
  }
 },
 "nbformat": 4,
 "nbformat_minor": 2
}
